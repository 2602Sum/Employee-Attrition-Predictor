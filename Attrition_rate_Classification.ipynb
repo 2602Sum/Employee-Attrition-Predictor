{
 "cells": [
  {
   "cell_type": "code",
   "execution_count": 1,
   "id": "e7b1f13a",
   "metadata": {},
   "outputs": [],
   "source": [
    "import pandas as pd\n",
    "import numpy as np\n",
    "import matplotlib.pyplot as plt\n",
    "import seaborn as sns\n",
    "%matplotlib inline\n",
    "plt.style.use('ggplot')"
   ]
  },
  {
   "cell_type": "code",
   "execution_count": 2,
   "id": "6fab22cc",
   "metadata": {},
   "outputs": [],
   "source": [
    "import warnings\n",
    "warnings.filterwarnings('ignore')"
   ]
  },
  {
   "cell_type": "code",
   "execution_count": 3,
   "id": "2b0338ea",
   "metadata": {},
   "outputs": [
    {
     "data": {
      "text/html": [
       "<div>\n",
       "<style scoped>\n",
       "    .dataframe tbody tr th:only-of-type {\n",
       "        vertical-align: middle;\n",
       "    }\n",
       "\n",
       "    .dataframe tbody tr th {\n",
       "        vertical-align: top;\n",
       "    }\n",
       "\n",
       "    .dataframe thead th {\n",
       "        text-align: right;\n",
       "    }\n",
       "</style>\n",
       "<table border=\"1\" class=\"dataframe\">\n",
       "  <thead>\n",
       "    <tr style=\"text-align: right;\">\n",
       "      <th></th>\n",
       "      <th>table id</th>\n",
       "      <th>name</th>\n",
       "      <th>phone number</th>\n",
       "      <th>Location</th>\n",
       "      <th>Emp. Group</th>\n",
       "      <th>Function</th>\n",
       "      <th>Gender</th>\n",
       "      <th>Tenure</th>\n",
       "      <th>Tenure Grp.</th>\n",
       "      <th>Experience (YY.MM)</th>\n",
       "      <th>Marital Status</th>\n",
       "      <th>Age in YY.</th>\n",
       "      <th>Hiring Source</th>\n",
       "      <th>Promoted/Non Promoted</th>\n",
       "      <th>Job Role Match</th>\n",
       "      <th>Stay/Left</th>\n",
       "    </tr>\n",
       "  </thead>\n",
       "  <tbody>\n",
       "    <tr>\n",
       "      <th>0</th>\n",
       "      <td>1</td>\n",
       "      <td>sid</td>\n",
       "      <td>9876544345</td>\n",
       "      <td>Pune</td>\n",
       "      <td>B2</td>\n",
       "      <td>Operation</td>\n",
       "      <td>Male</td>\n",
       "      <td>0.00</td>\n",
       "      <td>&lt; =1</td>\n",
       "      <td>6.08</td>\n",
       "      <td>Single</td>\n",
       "      <td>27.12</td>\n",
       "      <td>Direct</td>\n",
       "      <td>Non Promoted</td>\n",
       "      <td>Yes</td>\n",
       "      <td>Left</td>\n",
       "    </tr>\n",
       "    <tr>\n",
       "      <th>1</th>\n",
       "      <td>2</td>\n",
       "      <td>sid</td>\n",
       "      <td>9876544345</td>\n",
       "      <td>Noida</td>\n",
       "      <td>B7</td>\n",
       "      <td>Support</td>\n",
       "      <td>Male</td>\n",
       "      <td>0.00</td>\n",
       "      <td>&lt; =1</td>\n",
       "      <td>13.00</td>\n",
       "      <td>Marr.</td>\n",
       "      <td>38.08</td>\n",
       "      <td>Direct</td>\n",
       "      <td>Promoted</td>\n",
       "      <td>No</td>\n",
       "      <td>Stay</td>\n",
       "    </tr>\n",
       "    <tr>\n",
       "      <th>2</th>\n",
       "      <td>3</td>\n",
       "      <td>sid</td>\n",
       "      <td>9876544345</td>\n",
       "      <td>Bangalore</td>\n",
       "      <td>B3</td>\n",
       "      <td>Operation</td>\n",
       "      <td>Male</td>\n",
       "      <td>0.01</td>\n",
       "      <td>&lt; =1</td>\n",
       "      <td>16.05</td>\n",
       "      <td>Marr.</td>\n",
       "      <td>36.04</td>\n",
       "      <td>Direct</td>\n",
       "      <td>Promoted</td>\n",
       "      <td>Yes</td>\n",
       "      <td>Stay</td>\n",
       "    </tr>\n",
       "    <tr>\n",
       "      <th>3</th>\n",
       "      <td>4</td>\n",
       "      <td>sid</td>\n",
       "      <td>9876544345</td>\n",
       "      <td>Noida</td>\n",
       "      <td>B2</td>\n",
       "      <td>Operation</td>\n",
       "      <td>Male</td>\n",
       "      <td>0.01</td>\n",
       "      <td>&lt; =1</td>\n",
       "      <td>6.06</td>\n",
       "      <td>Marr.</td>\n",
       "      <td>32.07</td>\n",
       "      <td>Direct</td>\n",
       "      <td>Promoted</td>\n",
       "      <td>Yes</td>\n",
       "      <td>Stay</td>\n",
       "    </tr>\n",
       "    <tr>\n",
       "      <th>4</th>\n",
       "      <td>5</td>\n",
       "      <td>sid</td>\n",
       "      <td>9876544345</td>\n",
       "      <td>Lucknow</td>\n",
       "      <td>B2</td>\n",
       "      <td>Operation</td>\n",
       "      <td>Male</td>\n",
       "      <td>0.00</td>\n",
       "      <td>&lt; =1</td>\n",
       "      <td>7.00</td>\n",
       "      <td>Marr.</td>\n",
       "      <td>32.05</td>\n",
       "      <td>Direct</td>\n",
       "      <td>Non Promoted</td>\n",
       "      <td>Yes</td>\n",
       "      <td>Stay</td>\n",
       "    </tr>\n",
       "  </tbody>\n",
       "</table>\n",
       "</div>"
      ],
      "text/plain": [
       "   table id name  phone number   Location Emp. Group   Function Gender   \\\n",
       "0         1  sid    9876544345       Pune         B2  Operation    Male   \n",
       "1         2  sid    9876544345      Noida         B7    Support    Male   \n",
       "2         3  sid    9876544345  Bangalore         B3  Operation    Male   \n",
       "3         4  sid    9876544345      Noida         B2  Operation    Male   \n",
       "4         5  sid    9876544345    Lucknow         B2  Operation    Male   \n",
       "\n",
       "   Tenure Tenure Grp.  Experience (YY.MM) Marital Status  Age in YY.  \\\n",
       "0    0.00        < =1                6.08         Single       27.12   \n",
       "1    0.00        < =1               13.00          Marr.       38.08   \n",
       "2    0.01        < =1               16.05          Marr.       36.04   \n",
       "3    0.01        < =1                6.06          Marr.       32.07   \n",
       "4    0.00        < =1                7.00          Marr.       32.05   \n",
       "\n",
       "  Hiring Source Promoted/Non Promoted Job Role Match Stay/Left  \n",
       "0        Direct          Non Promoted            Yes      Left  \n",
       "1        Direct              Promoted             No      Stay  \n",
       "2        Direct              Promoted            Yes      Stay  \n",
       "3        Direct              Promoted            Yes      Stay  \n",
       "4        Direct          Non Promoted            Yes      Stay  "
      ]
     },
     "execution_count": 3,
     "metadata": {},
     "output_type": "execute_result"
    }
   ],
   "source": [
    "df = pd.read_csv(r\"C:\\Users\\91891\\Downloads\\2-Attrition+Rate+Django+code\\2-Attrition Rate Django code\\Table_1.csv\")\n",
    "df.head()"
   ]
  },
  {
   "cell_type": "code",
   "execution_count": 4,
   "id": "8094ae30",
   "metadata": {},
   "outputs": [
    {
     "name": "stdout",
     "output_type": "stream",
     "text": [
      "The shape of the data is (902, 16)\n"
     ]
    }
   ],
   "source": [
    "print(f'The shape of the data is {df.shape}')"
   ]
  },
  {
   "cell_type": "code",
   "execution_count": 5,
   "id": "fb31bae0",
   "metadata": {},
   "outputs": [
    {
     "data": {
      "text/plain": [
       "table id                 0\n",
       "name                     0\n",
       "phone number             0\n",
       "Location                 0\n",
       "Emp. Group               0\n",
       "Function                 0\n",
       "Gender                   0\n",
       "Tenure                   0\n",
       "Tenure Grp.              0\n",
       "Experience (YY.MM)       4\n",
       "Marital Status           0\n",
       "Age in YY.               0\n",
       "Hiring Source            0\n",
       "Promoted/Non Promoted    0\n",
       "Job Role Match           2\n",
       "Stay/Left                0\n",
       "dtype: int64"
      ]
     },
     "execution_count": 5,
     "metadata": {},
     "output_type": "execute_result"
    }
   ],
   "source": [
    "# Checking the null values in the data\n",
    "df.isna().sum()"
   ]
  },
  {
   "cell_type": "code",
   "execution_count": 6,
   "id": "2f376f41",
   "metadata": {},
   "outputs": [],
   "source": [
    "df.dropna(axis=0, inplace=True)"
   ]
  },
  {
   "cell_type": "code",
   "execution_count": 7,
   "id": "75e09808",
   "metadata": {},
   "outputs": [
    {
     "data": {
      "text/plain": [
       "table id                 0\n",
       "name                     0\n",
       "phone number             0\n",
       "Location                 0\n",
       "Emp. Group               0\n",
       "Function                 0\n",
       "Gender                   0\n",
       "Tenure                   0\n",
       "Tenure Grp.              0\n",
       "Experience (YY.MM)       0\n",
       "Marital Status           0\n",
       "Age in YY.               0\n",
       "Hiring Source            0\n",
       "Promoted/Non Promoted    0\n",
       "Job Role Match           0\n",
       "Stay/Left                0\n",
       "dtype: int64"
      ]
     },
     "execution_count": 7,
     "metadata": {},
     "output_type": "execute_result"
    }
   ],
   "source": [
    "df.isna().sum()"
   ]
  },
  {
   "cell_type": "code",
   "execution_count": 8,
   "id": "065af561",
   "metadata": {},
   "outputs": [
    {
     "name": "stdout",
     "output_type": "stream",
     "text": [
      "<class 'pandas.core.frame.DataFrame'>\n",
      "Int64Index: 896 entries, 0 to 901\n",
      "Data columns (total 16 columns):\n",
      " #   Column                 Non-Null Count  Dtype  \n",
      "---  ------                 --------------  -----  \n",
      " 0   table id               896 non-null    int64  \n",
      " 1   name                   896 non-null    object \n",
      " 2   phone number           896 non-null    int64  \n",
      " 3   Location               896 non-null    object \n",
      " 4   Emp. Group             896 non-null    object \n",
      " 5   Function               896 non-null    object \n",
      " 6   Gender                 896 non-null    object \n",
      " 7   Tenure                 896 non-null    float64\n",
      " 8   Tenure Grp.            896 non-null    object \n",
      " 9   Experience (YY.MM)     896 non-null    float64\n",
      " 10  Marital Status         896 non-null    object \n",
      " 11  Age in YY.             896 non-null    float64\n",
      " 12  Hiring Source          896 non-null    object \n",
      " 13  Promoted/Non Promoted  896 non-null    object \n",
      " 14  Job Role Match         896 non-null    object \n",
      " 15  Stay/Left              896 non-null    object \n",
      "dtypes: float64(3), int64(2), object(11)\n",
      "memory usage: 119.0+ KB\n"
     ]
    }
   ],
   "source": [
    "df.info()"
   ]
  },
  {
   "cell_type": "code",
   "execution_count": 9,
   "id": "5bfb77da",
   "metadata": {},
   "outputs": [
    {
     "name": "stdout",
     "output_type": "stream",
     "text": [
      "         table id  phone number      Tenure  Experience (YY.MM)  Age in YY.\n",
      "count  896.000000  8.960000e+02  896.000000          896.000000  896.000000\n",
      "mean   451.245536  9.876544e+09    1.205982            5.161886   29.078795\n",
      "std    259.236205  0.000000e+00    0.820552            3.478917    4.493532\n",
      "min      1.000000  9.876544e+09    0.000000            0.030000   21.050000\n",
      "25%    227.750000  9.876544e+09    0.110000            2.100000   26.050000\n",
      "50%    451.500000  9.876544e+09    1.060000            4.110000   28.060000\n",
      "75%    675.250000  9.876544e+09    2.040000            7.030000   31.070000\n",
      "max    902.000000  9.876544e+09    3.000000           25.080000   52.060000\n",
      "----------------------------------------------------------------------------------------------------\n",
      "         name Location Emp. Group   Function Gender  Tenure Grp.  \\\n",
      "count     896      896        896        896     896         896   \n",
      "unique      7       12         10          3       3           2   \n",
      "top     Arnab  Chennai         B1  Operation    Male  > 1 & < =3   \n",
      "freq      309      255        537        832     656         626   \n",
      "\n",
      "       Marital Status Hiring Source Promoted/Non Promoted Job Role Match  \\\n",
      "count             896           896                   896            896   \n",
      "unique              5             3                     2              2   \n",
      "top            Single        Direct              Promoted            Yes   \n",
      "freq              534           709                   457            481   \n",
      "\n",
      "       Stay/Left  \n",
      "count        896  \n",
      "unique         2  \n",
      "top         Stay  \n",
      "freq         592  \n"
     ]
    },
    {
     "data": {
      "text/plain": [
       "(None, None, None)"
      ]
     },
     "execution_count": 9,
     "metadata": {},
     "output_type": "execute_result"
    }
   ],
   "source": [
    "print(df.describe()),print('-'*100), print(df.describe(include=['object']))"
   ]
  },
  {
   "cell_type": "code",
   "execution_count": 10,
   "id": "0c632a26",
   "metadata": {},
   "outputs": [
    {
     "name": "stdout",
     "output_type": "stream",
     "text": [
      "The unique elements in name are ['sid' 'shruti' 'Dwane' 'Arnab' 'Papu' 'Shiv' 'Rahul']\n",
      "\n",
      "The unique elements in Location are ['Pune' 'Noida' 'Bangalore' 'Lucknow' 'Chennai' 'Hyderabad' 'Nagpur'\n",
      " 'Madurai' 'Mumbai' 'Gurgaon' 'Kolkata' 'Vijayawada']\n",
      "\n",
      "The unique elements in Emp. Group are ['B2' 'B7' 'B3' 'B1' 'B5' 'B0' 'B4' 'B6' 'C3' 'D2']\n",
      "\n",
      "The unique elements in Function are ['Operation' 'Support' 'Sales']\n",
      "\n",
      "The unique elements in Gender  are ['Male' 'Female' 'other']\n",
      "\n",
      "The unique elements in Tenure Grp. are ['< =1' '> 1 & < =3']\n",
      "\n",
      "The unique elements in Marital Status are ['Single' 'Marr.' 'Div.' 'NTBD' 'Sep.']\n",
      "\n",
      "The unique elements in Hiring Source are ['Direct' 'Agency' 'Employee Referral']\n",
      "\n",
      "The unique elements in Promoted/Non Promoted are ['Non Promoted' 'Promoted']\n",
      "\n",
      "The unique elements in Job Role Match are ['Yes' 'No']\n",
      "\n",
      "The unique elements in Stay/Left are ['Left' 'Stay']\n",
      "\n"
     ]
    }
   ],
   "source": [
    "# Checking the unique elements of the categorical variables\n",
    "for i in df.select_dtypes('object').columns:\n",
    "    print(f'The unique elements in {i} are {df[i].unique()}\\n')"
   ]
  },
  {
   "cell_type": "markdown",
   "id": "b37e62cf",
   "metadata": {},
   "source": [
    "# Exploratory Data Analysis"
   ]
  },
  {
   "cell_type": "code",
   "execution_count": 11,
   "id": "3a36be6d",
   "metadata": {},
   "outputs": [
    {
     "data": {
      "text/plain": [
       "<AxesSubplot:xlabel='Location', ylabel='count'>"
      ]
     },
     "execution_count": 11,
     "metadata": {},
     "output_type": "execute_result"
    },
    {
     "data": {
      "image/png": "[encoded data removed]",
      "text/plain": [
       "<Figure size 864x360 with 1 Axes>"
      ]
     },
     "metadata": {},
     "output_type": "display_data"
    }
   ],
   "source": [
    "plt.figure(figsize=(12,5))\n",
    "sns.countplot(df['Location'])\n"
   ]
  },
  {
   "cell_type": "code",
   "execution_count": 12,
   "id": "fbb910c9",
   "metadata": {},
   "outputs": [
    {
     "data": {
      "text/plain": [
       "<AxesSubplot:xlabel='Function', ylabel='count'>"
      ]
     },
     "execution_count": 12,
     "metadata": {},
     "output_type": "execute_result"
    },
    {
     "data": {
      "image/png": "[encoded data removed]",
      "text/plain": [
       "<Figure size 864x360 with 1 Axes>"
      ]
     },
     "metadata": {},
     "output_type": "display_data"
    }
   ],
   "source": [
    "plt.figure(figsize=(12,5))\n",
    "sns.countplot(df['Function'])"
   ]
  },
  {
   "cell_type": "code",
   "execution_count": 13,
   "id": "c23a42bc",
   "metadata": {},
   "outputs": [
    {
     "data": {
      "text/plain": [
       "Index(['table id', 'name', 'phone number', 'Location', 'Emp. Group',\n",
       "       'Function', 'Gender ', 'Tenure', 'Tenure Grp.', 'Experience (YY.MM)',\n",
       "       'Marital Status', 'Age in YY.', 'Hiring Source',\n",
       "       'Promoted/Non Promoted', 'Job Role Match', 'Stay/Left'],\n",
       "      dtype='object')"
      ]
     },
     "execution_count": 13,
     "metadata": {},
     "output_type": "execute_result"
    }
   ],
   "source": [
    "df.columns"
   ]
  },
  {
   "cell_type": "code",
   "execution_count": 14,
   "id": "4bf4cd5d",
   "metadata": {},
   "outputs": [],
   "source": [
    "#Lets remove the extra spaces from the names of the columns\n",
    "df.columns = df.columns.str.replace(' ','')"
   ]
  },
  {
   "cell_type": "code",
   "execution_count": 15,
   "id": "c680ed10",
   "metadata": {},
   "outputs": [
    {
     "data": {
      "text/plain": [
       "<AxesSubplot:xlabel='Gender', ylabel='count'>"
      ]
     },
     "execution_count": 15,
     "metadata": {},
     "output_type": "execute_result"
    },
    {
     "data": {
      "image/png": "[encoded data removed]",
      "text/plain": [
       "<Figure size 864x360 with 1 Axes>"
      ]
     },
     "metadata": {},
     "output_type": "display_data"
    }
   ],
   "source": [
    "plt.figure(figsize=(12,5))\n",
    "sns.countplot(df['Gender'])"
   ]
  },
  {
   "cell_type": "code",
   "execution_count": 16,
   "id": "fb2267b2",
   "metadata": {},
   "outputs": [
    {
     "data": {
      "text/html": [
       "<div>\n",
       "<style scoped>\n",
       "    .dataframe tbody tr th:only-of-type {\n",
       "        vertical-align: middle;\n",
       "    }\n",
       "\n",
       "    .dataframe tbody tr th {\n",
       "        vertical-align: top;\n",
       "    }\n",
       "\n",
       "    .dataframe thead th {\n",
       "        text-align: right;\n",
       "    }\n",
       "</style>\n",
       "<table border=\"1\" class=\"dataframe\">\n",
       "  <thead>\n",
       "    <tr style=\"text-align: right;\">\n",
       "      <th></th>\n",
       "      <th>tableid</th>\n",
       "      <th>name</th>\n",
       "      <th>phonenumber</th>\n",
       "      <th>Location</th>\n",
       "      <th>Emp.Group</th>\n",
       "      <th>Function</th>\n",
       "      <th>Gender</th>\n",
       "      <th>Tenure</th>\n",
       "      <th>TenureGrp.</th>\n",
       "      <th>Experience(YY.MM)</th>\n",
       "      <th>MaritalStatus</th>\n",
       "      <th>AgeinYY.</th>\n",
       "      <th>HiringSource</th>\n",
       "      <th>Promoted/NonPromoted</th>\n",
       "      <th>JobRoleMatch</th>\n",
       "      <th>Stay/Left</th>\n",
       "    </tr>\n",
       "  </thead>\n",
       "  <tbody>\n",
       "    <tr>\n",
       "      <th>0</th>\n",
       "      <td>1</td>\n",
       "      <td>sid</td>\n",
       "      <td>9876544345</td>\n",
       "      <td>Pune</td>\n",
       "      <td>B2</td>\n",
       "      <td>Operation</td>\n",
       "      <td>Male</td>\n",
       "      <td>0.00</td>\n",
       "      <td>&lt; =1</td>\n",
       "      <td>6.08</td>\n",
       "      <td>Single</td>\n",
       "      <td>27.12</td>\n",
       "      <td>Direct</td>\n",
       "      <td>Non Promoted</td>\n",
       "      <td>Yes</td>\n",
       "      <td>Left</td>\n",
       "    </tr>\n",
       "    <tr>\n",
       "      <th>1</th>\n",
       "      <td>2</td>\n",
       "      <td>sid</td>\n",
       "      <td>9876544345</td>\n",
       "      <td>Noida</td>\n",
       "      <td>B7</td>\n",
       "      <td>Support</td>\n",
       "      <td>Male</td>\n",
       "      <td>0.00</td>\n",
       "      <td>&lt; =1</td>\n",
       "      <td>13.00</td>\n",
       "      <td>Marr.</td>\n",
       "      <td>38.08</td>\n",
       "      <td>Direct</td>\n",
       "      <td>Promoted</td>\n",
       "      <td>No</td>\n",
       "      <td>Stay</td>\n",
       "    </tr>\n",
       "    <tr>\n",
       "      <th>2</th>\n",
       "      <td>3</td>\n",
       "      <td>sid</td>\n",
       "      <td>9876544345</td>\n",
       "      <td>Bangalore</td>\n",
       "      <td>B3</td>\n",
       "      <td>Operation</td>\n",
       "      <td>Male</td>\n",
       "      <td>0.01</td>\n",
       "      <td>&lt; =1</td>\n",
       "      <td>16.05</td>\n",
       "      <td>Marr.</td>\n",
       "      <td>36.04</td>\n",
       "      <td>Direct</td>\n",
       "      <td>Promoted</td>\n",
       "      <td>Yes</td>\n",
       "      <td>Stay</td>\n",
       "    </tr>\n",
       "    <tr>\n",
       "      <th>3</th>\n",
       "      <td>4</td>\n",
       "      <td>sid</td>\n",
       "      <td>9876544345</td>\n",
       "      <td>Noida</td>\n",
       "      <td>B2</td>\n",
       "      <td>Operation</td>\n",
       "      <td>Male</td>\n",
       "      <td>0.01</td>\n",
       "      <td>&lt; =1</td>\n",
       "      <td>6.06</td>\n",
       "      <td>Marr.</td>\n",
       "      <td>32.07</td>\n",
       "      <td>Direct</td>\n",
       "      <td>Promoted</td>\n",
       "      <td>Yes</td>\n",
       "      <td>Stay</td>\n",
       "    </tr>\n",
       "    <tr>\n",
       "      <th>4</th>\n",
       "      <td>5</td>\n",
       "      <td>sid</td>\n",
       "      <td>9876544345</td>\n",
       "      <td>Lucknow</td>\n",
       "      <td>B2</td>\n",
       "      <td>Operation</td>\n",
       "      <td>Male</td>\n",
       "      <td>0.00</td>\n",
       "      <td>&lt; =1</td>\n",
       "      <td>7.00</td>\n",
       "      <td>Marr.</td>\n",
       "      <td>32.05</td>\n",
       "      <td>Direct</td>\n",
       "      <td>Non Promoted</td>\n",
       "      <td>Yes</td>\n",
       "      <td>Stay</td>\n",
       "    </tr>\n",
       "  </tbody>\n",
       "</table>\n",
       "</div>"
      ],
      "text/plain": [
       "   tableid name  phonenumber   Location Emp.Group   Function Gender  Tenure  \\\n",
       "0        1  sid   9876544345       Pune        B2  Operation   Male    0.00   \n",
       "1        2  sid   9876544345      Noida        B7    Support   Male    0.00   \n",
       "2        3  sid   9876544345  Bangalore        B3  Operation   Male    0.01   \n",
       "3        4  sid   9876544345      Noida        B2  Operation   Male    0.01   \n",
       "4        5  sid   9876544345    Lucknow        B2  Operation   Male    0.00   \n",
       "\n",
       "  TenureGrp.  Experience(YY.MM) MaritalStatus  AgeinYY. HiringSource  \\\n",
       "0       < =1               6.08        Single     27.12       Direct   \n",
       "1       < =1              13.00         Marr.     38.08       Direct   \n",
       "2       < =1              16.05         Marr.     36.04       Direct   \n",
       "3       < =1               6.06         Marr.     32.07       Direct   \n",
       "4       < =1               7.00         Marr.     32.05       Direct   \n",
       "\n",
       "  Promoted/NonPromoted JobRoleMatch Stay/Left  \n",
       "0         Non Promoted          Yes      Left  \n",
       "1             Promoted           No      Stay  \n",
       "2             Promoted          Yes      Stay  \n",
       "3             Promoted          Yes      Stay  \n",
       "4         Non Promoted          Yes      Stay  "
      ]
     },
     "execution_count": 16,
     "metadata": {},
     "output_type": "execute_result"
    }
   ],
   "source": [
    "df.head()"
   ]
  },
  {
   "cell_type": "code",
   "execution_count": 17,
   "id": "ec0e1e65",
   "metadata": {},
   "outputs": [
    {
     "data": {
      "text/plain": [
       "<AxesSubplot:xlabel='TenureGrp.', ylabel='count'>"
      ]
     },
     "execution_count": 17,
     "metadata": {},
     "output_type": "execute_result"
    },
    {
     "data": {
      "image/png": "[encoded data removed]",
      "text/plain": [
       "<Figure size 864x360 with 1 Axes>"
      ]
     },
     "metadata": {},
     "output_type": "display_data"
    }
   ],
   "source": [
    "plt.figure(figsize=(12,5))\n",
    "sns.countplot(df['TenureGrp.'])"
   ]
  },
  {
   "cell_type": "code",
   "execution_count": 18,
   "id": "634dbd91",
   "metadata": {},
   "outputs": [
    {
     "data": {
      "text/plain": [
       "<AxesSubplot:xlabel='Experience(YY.MM)'>"
      ]
     },
     "execution_count": 18,
     "metadata": {},
     "output_type": "execute_result"
    },
    {
     "data": {
      "image/png": "[encoded data removed]",
      "text/plain": [
       "<Figure size 720x360 with 1 Axes>"
      ]
     },
     "metadata": {},
     "output_type": "display_data"
    }
   ],
   "source": [
    "plt.figure(figsize=(10,5))\n",
    "sns.boxplot(df['Experience(YY.MM)'])"
   ]
  },
  {
   "cell_type": "code",
   "execution_count": 19,
   "id": "d186ab04",
   "metadata": {},
   "outputs": [
    {
     "data": {
      "text/plain": [
       "<AxesSubplot:xlabel='Promoted/NonPromoted', ylabel='count'>"
      ]
     },
     "execution_count": 19,
     "metadata": {},
     "output_type": "execute_result"
    },
    {
     "data": {
      "image/png": "[encoded data removed]",
      "text/plain": [
       "<Figure size 864x360 with 1 Axes>"
      ]
     },
     "metadata": {},
     "output_type": "display_data"
    }
   ],
   "source": [
    "plt.figure(figsize=(12,5))\n",
    "sns.countplot(df['Promoted/NonPromoted'])"
   ]
  },
  {
   "cell_type": "code",
   "execution_count": 20,
   "id": "0b945bed",
   "metadata": {},
   "outputs": [
    {
     "data": {
      "text/html": [
       "<div>\n",
       "<style scoped>\n",
       "    .dataframe tbody tr th:only-of-type {\n",
       "        vertical-align: middle;\n",
       "    }\n",
       "\n",
       "    .dataframe tbody tr th {\n",
       "        vertical-align: top;\n",
       "    }\n",
       "\n",
       "    .dataframe thead th {\n",
       "        text-align: right;\n",
       "    }\n",
       "</style>\n",
       "<table border=\"1\" class=\"dataframe\">\n",
       "  <thead>\n",
       "    <tr style=\"text-align: right;\">\n",
       "      <th></th>\n",
       "      <th>Location</th>\n",
       "      <th>Stay/Left</th>\n",
       "      <th>counts</th>\n",
       "    </tr>\n",
       "  </thead>\n",
       "  <tbody>\n",
       "    <tr>\n",
       "      <th>0</th>\n",
       "      <td>Bangalore</td>\n",
       "      <td>Left</td>\n",
       "      <td>76</td>\n",
       "    </tr>\n",
       "    <tr>\n",
       "      <th>1</th>\n",
       "      <td>Bangalore</td>\n",
       "      <td>Stay</td>\n",
       "      <td>134</td>\n",
       "    </tr>\n",
       "    <tr>\n",
       "      <th>2</th>\n",
       "      <td>Chennai</td>\n",
       "      <td>Left</td>\n",
       "      <td>83</td>\n",
       "    </tr>\n",
       "    <tr>\n",
       "      <th>3</th>\n",
       "      <td>Chennai</td>\n",
       "      <td>Stay</td>\n",
       "      <td>172</td>\n",
       "    </tr>\n",
       "    <tr>\n",
       "      <th>4</th>\n",
       "      <td>Gurgaon</td>\n",
       "      <td>Stay</td>\n",
       "      <td>3</td>\n",
       "    </tr>\n",
       "  </tbody>\n",
       "</table>\n",
       "</div>"
      ],
      "text/plain": [
       "    Location Stay/Left  counts\n",
       "0  Bangalore      Left      76\n",
       "1  Bangalore      Stay     134\n",
       "2    Chennai      Left      83\n",
       "3    Chennai      Stay     172\n",
       "4    Gurgaon      Stay       3"
      ]
     },
     "execution_count": 20,
     "metadata": {},
     "output_type": "execute_result"
    }
   ],
   "source": [
    "df_locationwise_attrition = df.groupby(['Location', 'Stay/Left'])['name'].agg('count').reset_index()\n",
    "df_locationwise_attrition.columns = ['Location', 'Stay/Left', 'counts']\n",
    "df_locationwise_attrition.head()"
   ]
  },
  {
   "cell_type": "code",
   "execution_count": 21,
   "id": "cbc9d5a1",
   "metadata": {},
   "outputs": [
    {
     "data": {
      "text/html": [
       "<div>\n",
       "<style scoped>\n",
       "    .dataframe tbody tr th:only-of-type {\n",
       "        vertical-align: middle;\n",
       "    }\n",
       "\n",
       "    .dataframe tbody tr th {\n",
       "        vertical-align: top;\n",
       "    }\n",
       "\n",
       "    .dataframe thead th {\n",
       "        text-align: right;\n",
       "    }\n",
       "</style>\n",
       "<table border=\"1\" class=\"dataframe\">\n",
       "  <thead>\n",
       "    <tr style=\"text-align: right;\">\n",
       "      <th></th>\n",
       "      <th>Location</th>\n",
       "      <th>Stay/Left</th>\n",
       "      <th>counts</th>\n",
       "      <th>%</th>\n",
       "    </tr>\n",
       "  </thead>\n",
       "  <tbody>\n",
       "    <tr>\n",
       "      <th>0</th>\n",
       "      <td>Bangalore</td>\n",
       "      <td>Left</td>\n",
       "      <td>76</td>\n",
       "      <td>36.0</td>\n",
       "    </tr>\n",
       "    <tr>\n",
       "      <th>1</th>\n",
       "      <td>Bangalore</td>\n",
       "      <td>Stay</td>\n",
       "      <td>134</td>\n",
       "      <td>64.0</td>\n",
       "    </tr>\n",
       "    <tr>\n",
       "      <th>2</th>\n",
       "      <td>Chennai</td>\n",
       "      <td>Left</td>\n",
       "      <td>83</td>\n",
       "      <td>33.0</td>\n",
       "    </tr>\n",
       "    <tr>\n",
       "      <th>3</th>\n",
       "      <td>Chennai</td>\n",
       "      <td>Stay</td>\n",
       "      <td>172</td>\n",
       "      <td>67.0</td>\n",
       "    </tr>\n",
       "    <tr>\n",
       "      <th>4</th>\n",
       "      <td>Gurgaon</td>\n",
       "      <td>Stay</td>\n",
       "      <td>3</td>\n",
       "      <td>100.0</td>\n",
       "    </tr>\n",
       "  </tbody>\n",
       "</table>\n",
       "</div>"
      ],
      "text/plain": [
       "    Location Stay/Left  counts      %\n",
       "0  Bangalore      Left      76   36.0\n",
       "1  Bangalore      Stay     134   64.0\n",
       "2    Chennai      Left      83   33.0\n",
       "3    Chennai      Stay     172   67.0\n",
       "4    Gurgaon      Stay       3  100.0"
      ]
     },
     "execution_count": 21,
     "metadata": {},
     "output_type": "execute_result"
    }
   ],
   "source": [
    "df_locationwise_attrition['%'] = 100 * df_locationwise_attrition['counts'] / df_locationwise_attrition.groupby('Location')['counts'].transform('sum')\n",
    "df_locationwise_attrition['%']=df_locationwise_attrition['%'].round()\n",
    "df_locationwise_attrition.head()"
   ]
  },
  {
   "cell_type": "code",
   "execution_count": 22,
   "id": "e82fd2c1",
   "metadata": {},
   "outputs": [
    {
     "data": {
      "text/plain": [
       "Text(0.5, 1.0, 'Locationwise Attrition in terms of Percentage')"
      ]
     },
     "execution_count": 22,
     "metadata": {},
     "output_type": "execute_result"
    },
    {
     "data": {
      "image/png": "[encoded data removed]",
      "text/plain": [
       "<Figure size 1440x1080 with 2 Axes>"
      ]
     },
     "metadata": {},
     "output_type": "display_data"
    }
   ],
   "source": [
    "plt.figure(figsize = (20,15))\n",
    "plt.subplot(2,1,1)\n",
    "sns.barplot(x=df_locationwise_attrition['Location'], y=df_locationwise_attrition['counts'], hue = df_locationwise_attrition['Stay/Left']).set_title('Locationwise Attrition in terms of count', fontsize=20)\n",
    "plt.subplot(2,1,2)\n",
    "sns.barplot(x=df_locationwise_attrition['Location'], y=df_locationwise_attrition['%'], hue = df_locationwise_attrition['Stay/Left']).set_title('Locationwise Attrition in terms of Percentage', fontsize=20)"
   ]
  },
  {
   "cell_type": "markdown",
   "id": "ecaa5a2e",
   "metadata": {},
   "source": [
    "<b>The above plot shows that Nagpur and Vijaywada has the worst attrition rate</b>"
   ]
  },
  {
   "cell_type": "code",
   "execution_count": 23,
   "id": "68079424",
   "metadata": {},
   "outputs": [
    {
     "data": {
      "text/html": [
       "<div>\n",
       "<style scoped>\n",
       "    .dataframe tbody tr th:only-of-type {\n",
       "        vertical-align: middle;\n",
       "    }\n",
       "\n",
       "    .dataframe tbody tr th {\n",
       "        vertical-align: top;\n",
       "    }\n",
       "\n",
       "    .dataframe thead th {\n",
       "        text-align: right;\n",
       "    }\n",
       "</style>\n",
       "<table border=\"1\" class=\"dataframe\">\n",
       "  <thead>\n",
       "    <tr style=\"text-align: right;\">\n",
       "      <th></th>\n",
       "      <th>Promoted/NonPromoted</th>\n",
       "      <th>Stay/Left</th>\n",
       "      <th>counts</th>\n",
       "      <th>%</th>\n",
       "    </tr>\n",
       "  </thead>\n",
       "  <tbody>\n",
       "    <tr>\n",
       "      <th>0</th>\n",
       "      <td>Non Promoted</td>\n",
       "      <td>Left</td>\n",
       "      <td>121</td>\n",
       "      <td>28.0</td>\n",
       "    </tr>\n",
       "    <tr>\n",
       "      <th>1</th>\n",
       "      <td>Non Promoted</td>\n",
       "      <td>Stay</td>\n",
       "      <td>318</td>\n",
       "      <td>72.0</td>\n",
       "    </tr>\n",
       "    <tr>\n",
       "      <th>2</th>\n",
       "      <td>Promoted</td>\n",
       "      <td>Left</td>\n",
       "      <td>183</td>\n",
       "      <td>40.0</td>\n",
       "    </tr>\n",
       "    <tr>\n",
       "      <th>3</th>\n",
       "      <td>Promoted</td>\n",
       "      <td>Stay</td>\n",
       "      <td>274</td>\n",
       "      <td>60.0</td>\n",
       "    </tr>\n",
       "  </tbody>\n",
       "</table>\n",
       "</div>"
      ],
      "text/plain": [
       "  Promoted/NonPromoted Stay/Left  counts     %\n",
       "0         Non Promoted      Left     121  28.0\n",
       "1         Non Promoted      Stay     318  72.0\n",
       "2             Promoted      Left     183  40.0\n",
       "3             Promoted      Stay     274  60.0"
      ]
     },
     "execution_count": 23,
     "metadata": {},
     "output_type": "execute_result"
    }
   ],
   "source": [
    "# Lets check the attrition rate in terms of Promoted/NonPromoted\n",
    "df_Promoted_NonPromotedwise_attrition = df.groupby(['Promoted/NonPromoted', 'Stay/Left'])['name'].agg('count').reset_index()\n",
    "df_Promoted_NonPromotedwise_attrition.columns = ['Promoted/NonPromoted', 'Stay/Left', 'counts']\n",
    "df_Promoted_NonPromotedwise_attrition.head()\n",
    "# Calcuate the prcentage\n",
    "df_Promoted_NonPromotedwise_attrition['%'] = 100 * df_Promoted_NonPromotedwise_attrition['counts'] / df_Promoted_NonPromotedwise_attrition.groupby('Promoted/NonPromoted')['counts'].transform('sum')\n",
    "df_Promoted_NonPromotedwise_attrition['%']=df_Promoted_NonPromotedwise_attrition['%'].round()\n",
    "df_Promoted_NonPromotedwise_attrition"
   ]
  },
  {
   "cell_type": "code",
   "execution_count": 24,
   "id": "2bb12d41",
   "metadata": {},
   "outputs": [
    {
     "data": {
      "text/plain": [
       "Text(0.5, 1.0, 'Promoted/NonPromoted Attrition in terms of %')"
      ]
     },
     "execution_count": 24,
     "metadata": {},
     "output_type": "execute_result"
    },
    {
     "data": {
      "image/png": "[encoded data removed]",
      "text/plain": [
       "<Figure size 936x360 with 1 Axes>"
      ]
     },
     "metadata": {},
     "output_type": "display_data"
    }
   ],
   "source": [
    "plt.figure(figsize = (13,5))\n",
    "sns.barplot(x=df_Promoted_NonPromotedwise_attrition['Promoted/NonPromoted'], y=df_Promoted_NonPromotedwise_attrition['%'], hue = df_Promoted_NonPromotedwise_attrition['Stay/Left']).set_title('Promoted/NonPromoted Attrition in terms of %', fontsize=20)"
   ]
  },
  {
   "cell_type": "markdown",
   "id": "ac6b6916",
   "metadata": {},
   "source": [
    "<b>The above plot shows that higher percentage of Promoted people are leaving the company. </b>"
   ]
  },
  {
   "cell_type": "code",
   "execution_count": 25,
   "id": "143ba8b4",
   "metadata": {},
   "outputs": [
    {
     "data": {
      "text/html": [
       "<div>\n",
       "<style scoped>\n",
       "    .dataframe tbody tr th:only-of-type {\n",
       "        vertical-align: middle;\n",
       "    }\n",
       "\n",
       "    .dataframe tbody tr th {\n",
       "        vertical-align: top;\n",
       "    }\n",
       "\n",
       "    .dataframe thead th {\n",
       "        text-align: right;\n",
       "    }\n",
       "</style>\n",
       "<table border=\"1\" class=\"dataframe\">\n",
       "  <thead>\n",
       "    <tr style=\"text-align: right;\">\n",
       "      <th></th>\n",
       "      <th>Function</th>\n",
       "      <th>Stay/Left</th>\n",
       "      <th>counts</th>\n",
       "      <th>%</th>\n",
       "    </tr>\n",
       "  </thead>\n",
       "  <tbody>\n",
       "    <tr>\n",
       "      <th>0</th>\n",
       "      <td>Operation</td>\n",
       "      <td>Left</td>\n",
       "      <td>280</td>\n",
       "      <td>34.0</td>\n",
       "    </tr>\n",
       "    <tr>\n",
       "      <th>1</th>\n",
       "      <td>Operation</td>\n",
       "      <td>Stay</td>\n",
       "      <td>552</td>\n",
       "      <td>66.0</td>\n",
       "    </tr>\n",
       "    <tr>\n",
       "      <th>2</th>\n",
       "      <td>Sales</td>\n",
       "      <td>Left</td>\n",
       "      <td>4</td>\n",
       "      <td>33.0</td>\n",
       "    </tr>\n",
       "    <tr>\n",
       "      <th>3</th>\n",
       "      <td>Sales</td>\n",
       "      <td>Stay</td>\n",
       "      <td>8</td>\n",
       "      <td>67.0</td>\n",
       "    </tr>\n",
       "    <tr>\n",
       "      <th>4</th>\n",
       "      <td>Support</td>\n",
       "      <td>Left</td>\n",
       "      <td>20</td>\n",
       "      <td>38.0</td>\n",
       "    </tr>\n",
       "    <tr>\n",
       "      <th>5</th>\n",
       "      <td>Support</td>\n",
       "      <td>Stay</td>\n",
       "      <td>32</td>\n",
       "      <td>62.0</td>\n",
       "    </tr>\n",
       "  </tbody>\n",
       "</table>\n",
       "</div>"
      ],
      "text/plain": [
       "    Function Stay/Left  counts     %\n",
       "0  Operation      Left     280  34.0\n",
       "1  Operation      Stay     552  66.0\n",
       "2      Sales      Left       4  33.0\n",
       "3      Sales      Stay       8  67.0\n",
       "4    Support      Left      20  38.0\n",
       "5    Support      Stay      32  62.0"
      ]
     },
     "execution_count": 25,
     "metadata": {},
     "output_type": "execute_result"
    }
   ],
   "source": [
    "# Lets check the attrition rate in terms of Function\n",
    "df_Functionwise_attrition = df.groupby(['Function', 'Stay/Left'])['name'].agg('count').reset_index()\n",
    "df_Functionwise_attrition.columns = ['Function', 'Stay/Left', 'counts']\n",
    "df_Functionwise_attrition.head()\n",
    "# Calcuate the prcentage\n",
    "df_Functionwise_attrition['%'] = 100 * df_Functionwise_attrition['counts'] / df_Functionwise_attrition.groupby('Function')['counts'].transform('sum')\n",
    "df_Functionwise_attrition['%']=df_Functionwise_attrition['%'].round()\n",
    "df_Functionwise_attrition"
   ]
  },
  {
   "cell_type": "code",
   "execution_count": 26,
   "id": "824463ba",
   "metadata": {},
   "outputs": [
    {
     "data": {
      "text/plain": [
       "Text(0.5, 1.0, 'Functionwise Attrition in terms of %')"
      ]
     },
     "execution_count": 26,
     "metadata": {},
     "output_type": "execute_result"
    },
    {
     "data": {
      "image/png": "[encoded data removed]",
      "text/plain": [
       "<Figure size 936x360 with 1 Axes>"
      ]
     },
     "metadata": {},
     "output_type": "display_data"
    }
   ],
   "source": [
    "plt.figure(figsize = (13,5))\n",
    "sns.barplot(x=df_Functionwise_attrition['Function'], y=df_Functionwise_attrition['%'], hue = df_Functionwise_attrition['Stay/Left']).set_title('Functionwise Attrition in terms of %', fontsize=20)"
   ]
  },
  {
   "cell_type": "markdown",
   "id": "bd478ac4",
   "metadata": {},
   "source": [
    "<b>The above plot shows that higher percentage of people in the Support Function are leaving the company. </b>"
   ]
  },
  {
   "cell_type": "code",
   "execution_count": 27,
   "id": "a50eb188",
   "metadata": {},
   "outputs": [
    {
     "data": {
      "text/plain": [
       "Index(['tableid', 'name', 'phonenumber', 'Location', 'Emp.Group', 'Function',\n",
       "       'Gender', 'Tenure', 'TenureGrp.', 'Experience(YY.MM)', 'MaritalStatus',\n",
       "       'AgeinYY.', 'HiringSource', 'Promoted/NonPromoted', 'JobRoleMatch',\n",
       "       'Stay/Left'],\n",
       "      dtype='object')"
      ]
     },
     "execution_count": 27,
     "metadata": {},
     "output_type": "execute_result"
    }
   ],
   "source": [
    "df.columns"
   ]
  },
  {
   "cell_type": "code",
   "execution_count": 28,
   "id": "82bd43b4",
   "metadata": {},
   "outputs": [
    {
     "data": {
      "text/plain": [
       "TenureGrp.  Stay/Left\n",
       "< =1        Left          97\n",
       "            Stay         173\n",
       "> 1 & < =3  Left         207\n",
       "            Stay         419\n",
       "Name: name, dtype: int64"
      ]
     },
     "execution_count": 28,
     "metadata": {},
     "output_type": "execute_result"
    }
   ],
   "source": [
    "df.groupby(['TenureGrp.', 'Stay/Left'])['name'].agg('count')"
   ]
  },
  {
   "cell_type": "code",
   "execution_count": 29,
   "id": "4d0a7a5c",
   "metadata": {},
   "outputs": [
    {
     "data": {
      "text/html": [
       "<div>\n",
       "<style scoped>\n",
       "    .dataframe tbody tr th:only-of-type {\n",
       "        vertical-align: middle;\n",
       "    }\n",
       "\n",
       "    .dataframe tbody tr th {\n",
       "        vertical-align: top;\n",
       "    }\n",
       "\n",
       "    .dataframe thead th {\n",
       "        text-align: right;\n",
       "    }\n",
       "</style>\n",
       "<table border=\"1\" class=\"dataframe\">\n",
       "  <thead>\n",
       "    <tr style=\"text-align: right;\">\n",
       "      <th></th>\n",
       "      <th>TenureGrp.</th>\n",
       "      <th>Stay/Left</th>\n",
       "      <th>counts</th>\n",
       "      <th>%</th>\n",
       "    </tr>\n",
       "  </thead>\n",
       "  <tbody>\n",
       "    <tr>\n",
       "      <th>0</th>\n",
       "      <td>&lt; =1</td>\n",
       "      <td>Left</td>\n",
       "      <td>97</td>\n",
       "      <td>36.0</td>\n",
       "    </tr>\n",
       "    <tr>\n",
       "      <th>1</th>\n",
       "      <td>&lt; =1</td>\n",
       "      <td>Stay</td>\n",
       "      <td>173</td>\n",
       "      <td>64.0</td>\n",
       "    </tr>\n",
       "    <tr>\n",
       "      <th>2</th>\n",
       "      <td>&gt; 1 &amp; &lt; =3</td>\n",
       "      <td>Left</td>\n",
       "      <td>207</td>\n",
       "      <td>33.0</td>\n",
       "    </tr>\n",
       "    <tr>\n",
       "      <th>3</th>\n",
       "      <td>&gt; 1 &amp; &lt; =3</td>\n",
       "      <td>Stay</td>\n",
       "      <td>419</td>\n",
       "      <td>67.0</td>\n",
       "    </tr>\n",
       "  </tbody>\n",
       "</table>\n",
       "</div>"
      ],
      "text/plain": [
       "   TenureGrp. Stay/Left  counts     %\n",
       "0        < =1      Left      97  36.0\n",
       "1        < =1      Stay     173  64.0\n",
       "2  > 1 & < =3      Left     207  33.0\n",
       "3  > 1 & < =3      Stay     419  67.0"
      ]
     },
     "execution_count": 29,
     "metadata": {},
     "output_type": "execute_result"
    }
   ],
   "source": [
    "# Lets check the attrition rate in terms of TenureGroup\n",
    "df_TenureGroup_attrition = df.groupby(['TenureGrp.', 'Stay/Left'])['name'].agg('count').reset_index()\n",
    "df_TenureGroup_attrition.columns = ['TenureGrp.', 'Stay/Left', 'counts']\n",
    "df_TenureGroup_attrition.head()\n",
    "# Calcuate the prcentage\n",
    "df_TenureGroup_attrition['%'] = 100 * df_TenureGroup_attrition['counts'] / df_TenureGroup_attrition.groupby('TenureGrp.')['counts'].transform('sum')\n",
    "df_TenureGroup_attrition['%']=df_TenureGroup_attrition['%'].round()\n",
    "df_TenureGroup_attrition"
   ]
  },
  {
   "cell_type": "code",
   "execution_count": 30,
   "id": "1214d143",
   "metadata": {},
   "outputs": [
    {
     "data": {
      "text/plain": [
       "Text(0.5, 1.0, 'TenureGroupwise Attrition in terms of %')"
      ]
     },
     "execution_count": 30,
     "metadata": {},
     "output_type": "execute_result"
    },
    {
     "data": {
      "image/png": "[encoded data removed]",
      "text/plain": [
       "<Figure size 936x360 with 1 Axes>"
      ]
     },
     "metadata": {},
     "output_type": "display_data"
    }
   ],
   "source": [
    "plt.figure(figsize = (13,5))\n",
    "sns.barplot(x=df_TenureGroup_attrition['TenureGrp.'], y=df_TenureGroup_attrition['%'], hue = df_TenureGroup_attrition['Stay/Left']).set_title('TenureGroupwise Attrition in terms of %', fontsize=20)"
   ]
  },
  {
   "cell_type": "markdown",
   "id": "dac21886",
   "metadata": {},
   "source": [
    "<b>The above plot shows that higher percentage of people with tenure less than 1 year are leaving the company. </b>"
   ]
  },
  {
   "cell_type": "code",
   "execution_count": 31,
   "id": "99e64f6e",
   "metadata": {},
   "outputs": [
    {
     "data": {
      "text/html": [
       "<div>\n",
       "<style scoped>\n",
       "    .dataframe tbody tr th:only-of-type {\n",
       "        vertical-align: middle;\n",
       "    }\n",
       "\n",
       "    .dataframe tbody tr th {\n",
       "        vertical-align: top;\n",
       "    }\n",
       "\n",
       "    .dataframe thead th {\n",
       "        text-align: right;\n",
       "    }\n",
       "</style>\n",
       "<table border=\"1\" class=\"dataframe\">\n",
       "  <thead>\n",
       "    <tr style=\"text-align: right;\">\n",
       "      <th></th>\n",
       "      <th>JobRoleMatch</th>\n",
       "      <th>Stay/Left</th>\n",
       "      <th>counts</th>\n",
       "      <th>%</th>\n",
       "    </tr>\n",
       "  </thead>\n",
       "  <tbody>\n",
       "    <tr>\n",
       "      <th>0</th>\n",
       "      <td>No</td>\n",
       "      <td>Left</td>\n",
       "      <td>284</td>\n",
       "      <td>68.0</td>\n",
       "    </tr>\n",
       "    <tr>\n",
       "      <th>1</th>\n",
       "      <td>No</td>\n",
       "      <td>Stay</td>\n",
       "      <td>131</td>\n",
       "      <td>32.0</td>\n",
       "    </tr>\n",
       "    <tr>\n",
       "      <th>2</th>\n",
       "      <td>Yes</td>\n",
       "      <td>Left</td>\n",
       "      <td>20</td>\n",
       "      <td>4.0</td>\n",
       "    </tr>\n",
       "    <tr>\n",
       "      <th>3</th>\n",
       "      <td>Yes</td>\n",
       "      <td>Stay</td>\n",
       "      <td>461</td>\n",
       "      <td>96.0</td>\n",
       "    </tr>\n",
       "  </tbody>\n",
       "</table>\n",
       "</div>"
      ],
      "text/plain": [
       "  JobRoleMatch Stay/Left  counts     %\n",
       "0           No      Left     284  68.0\n",
       "1           No      Stay     131  32.0\n",
       "2          Yes      Left      20   4.0\n",
       "3          Yes      Stay     461  96.0"
      ]
     },
     "execution_count": 31,
     "metadata": {},
     "output_type": "execute_result"
    }
   ],
   "source": [
    "# Lets check the attrition rate in terms of JobRoleMatch\n",
    "df_JobRoleMatch_attrition = df.groupby(['JobRoleMatch', 'Stay/Left'])['name'].agg('count').reset_index()\n",
    "df_JobRoleMatch_attrition.columns = ['JobRoleMatch', 'Stay/Left', 'counts']\n",
    "df_JobRoleMatch_attrition.head()\n",
    "# Calcuate the prcentage\n",
    "df_JobRoleMatch_attrition['%'] = 100 * df_JobRoleMatch_attrition['counts'] / df_JobRoleMatch_attrition.groupby('JobRoleMatch')['counts'].transform('sum')\n",
    "df_JobRoleMatch_attrition['%']=df_JobRoleMatch_attrition['%'].round()\n",
    "df_JobRoleMatch_attrition"
   ]
  },
  {
   "cell_type": "code",
   "execution_count": 32,
   "id": "beeb02fa",
   "metadata": {},
   "outputs": [
    {
     "data": {
      "text/plain": [
       "Text(0.5, 1.0, 'Attrition based on Job Role Match in terms of %')"
      ]
     },
     "execution_count": 32,
     "metadata": {},
     "output_type": "execute_result"
    },
    {
     "data": {
      "image/png": "[encoded data removed]",
      "text/plain": [
       "<Figure size 936x360 with 1 Axes>"
      ]
     },
     "metadata": {},
     "output_type": "display_data"
    }
   ],
   "source": [
    "plt.figure(figsize = (13,5))\n",
    "sns.barplot(x=df_JobRoleMatch_attrition['JobRoleMatch'], y=df_JobRoleMatch_attrition['%'], hue = df_JobRoleMatch_attrition['Stay/Left']).set_title('Attrition based on Job Role Match in terms of %', fontsize=20)"
   ]
  },
  {
   "cell_type": "markdown",
   "id": "18161bb2",
   "metadata": {},
   "source": [
    "<b>The above plot shows that higher percentage of people who did not match the Job role are leaving the company. </b>"
   ]
  },
  {
   "cell_type": "markdown",
   "id": "771f9536",
   "metadata": {},
   "source": [
    "# Feature Engineering"
   ]
  },
  {
   "cell_type": "code",
   "execution_count": 33,
   "id": "c508923e",
   "metadata": {},
   "outputs": [
    {
     "data": {
      "text/html": [
       "<div>\n",
       "<style scoped>\n",
       "    .dataframe tbody tr th:only-of-type {\n",
       "        vertical-align: middle;\n",
       "    }\n",
       "\n",
       "    .dataframe tbody tr th {\n",
       "        vertical-align: top;\n",
       "    }\n",
       "\n",
       "    .dataframe thead th {\n",
       "        text-align: right;\n",
       "    }\n",
       "</style>\n",
       "<table border=\"1\" class=\"dataframe\">\n",
       "  <thead>\n",
       "    <tr style=\"text-align: right;\">\n",
       "      <th></th>\n",
       "      <th>tableid</th>\n",
       "      <th>name</th>\n",
       "      <th>phonenumber</th>\n",
       "      <th>Location</th>\n",
       "      <th>Emp.Group</th>\n",
       "      <th>Function</th>\n",
       "      <th>Gender</th>\n",
       "      <th>Tenure</th>\n",
       "      <th>TenureGrp.</th>\n",
       "      <th>Experience(YY.MM)</th>\n",
       "      <th>MaritalStatus</th>\n",
       "      <th>AgeinYY.</th>\n",
       "      <th>HiringSource</th>\n",
       "      <th>Promoted/NonPromoted</th>\n",
       "      <th>JobRoleMatch</th>\n",
       "      <th>Stay/Left</th>\n",
       "    </tr>\n",
       "  </thead>\n",
       "  <tbody>\n",
       "    <tr>\n",
       "      <th>0</th>\n",
       "      <td>1</td>\n",
       "      <td>sid</td>\n",
       "      <td>9876544345</td>\n",
       "      <td>Pune</td>\n",
       "      <td>B2</td>\n",
       "      <td>Operation</td>\n",
       "      <td>Male</td>\n",
       "      <td>0.00</td>\n",
       "      <td>&lt; =1</td>\n",
       "      <td>6.08</td>\n",
       "      <td>Single</td>\n",
       "      <td>27.12</td>\n",
       "      <td>Direct</td>\n",
       "      <td>Non Promoted</td>\n",
       "      <td>Yes</td>\n",
       "      <td>Left</td>\n",
       "    </tr>\n",
       "    <tr>\n",
       "      <th>1</th>\n",
       "      <td>2</td>\n",
       "      <td>sid</td>\n",
       "      <td>9876544345</td>\n",
       "      <td>Noida</td>\n",
       "      <td>B7</td>\n",
       "      <td>Support</td>\n",
       "      <td>Male</td>\n",
       "      <td>0.00</td>\n",
       "      <td>&lt; =1</td>\n",
       "      <td>13.00</td>\n",
       "      <td>Marr.</td>\n",
       "      <td>38.08</td>\n",
       "      <td>Direct</td>\n",
       "      <td>Promoted</td>\n",
       "      <td>No</td>\n",
       "      <td>Stay</td>\n",
       "    </tr>\n",
       "    <tr>\n",
       "      <th>2</th>\n",
       "      <td>3</td>\n",
       "      <td>sid</td>\n",
       "      <td>9876544345</td>\n",
       "      <td>Bangalore</td>\n",
       "      <td>B3</td>\n",
       "      <td>Operation</td>\n",
       "      <td>Male</td>\n",
       "      <td>0.01</td>\n",
       "      <td>&lt; =1</td>\n",
       "      <td>16.05</td>\n",
       "      <td>Marr.</td>\n",
       "      <td>36.04</td>\n",
       "      <td>Direct</td>\n",
       "      <td>Promoted</td>\n",
       "      <td>Yes</td>\n",
       "      <td>Stay</td>\n",
       "    </tr>\n",
       "    <tr>\n",
       "      <th>3</th>\n",
       "      <td>4</td>\n",
       "      <td>sid</td>\n",
       "      <td>9876544345</td>\n",
       "      <td>Noida</td>\n",
       "      <td>B2</td>\n",
       "      <td>Operation</td>\n",
       "      <td>Male</td>\n",
       "      <td>0.01</td>\n",
       "      <td>&lt; =1</td>\n",
       "      <td>6.06</td>\n",
       "      <td>Marr.</td>\n",
       "      <td>32.07</td>\n",
       "      <td>Direct</td>\n",
       "      <td>Promoted</td>\n",
       "      <td>Yes</td>\n",
       "      <td>Stay</td>\n",
       "    </tr>\n",
       "    <tr>\n",
       "      <th>4</th>\n",
       "      <td>5</td>\n",
       "      <td>sid</td>\n",
       "      <td>9876544345</td>\n",
       "      <td>Lucknow</td>\n",
       "      <td>B2</td>\n",
       "      <td>Operation</td>\n",
       "      <td>Male</td>\n",
       "      <td>0.00</td>\n",
       "      <td>&lt; =1</td>\n",
       "      <td>7.00</td>\n",
       "      <td>Marr.</td>\n",
       "      <td>32.05</td>\n",
       "      <td>Direct</td>\n",
       "      <td>Non Promoted</td>\n",
       "      <td>Yes</td>\n",
       "      <td>Stay</td>\n",
       "    </tr>\n",
       "  </tbody>\n",
       "</table>\n",
       "</div>"
      ],
      "text/plain": [
       "   tableid name  phonenumber   Location Emp.Group   Function Gender  Tenure  \\\n",
       "0        1  sid   9876544345       Pune        B2  Operation   Male    0.00   \n",
       "1        2  sid   9876544345      Noida        B7    Support   Male    0.00   \n",
       "2        3  sid   9876544345  Bangalore        B3  Operation   Male    0.01   \n",
       "3        4  sid   9876544345      Noida        B2  Operation   Male    0.01   \n",
       "4        5  sid   9876544345    Lucknow        B2  Operation   Male    0.00   \n",
       "\n",
       "  TenureGrp.  Experience(YY.MM) MaritalStatus  AgeinYY. HiringSource  \\\n",
       "0       < =1               6.08        Single     27.12       Direct   \n",
       "1       < =1              13.00         Marr.     38.08       Direct   \n",
       "2       < =1              16.05         Marr.     36.04       Direct   \n",
       "3       < =1               6.06         Marr.     32.07       Direct   \n",
       "4       < =1               7.00         Marr.     32.05       Direct   \n",
       "\n",
       "  Promoted/NonPromoted JobRoleMatch Stay/Left  \n",
       "0         Non Promoted          Yes      Left  \n",
       "1             Promoted           No      Stay  \n",
       "2             Promoted          Yes      Stay  \n",
       "3             Promoted          Yes      Stay  \n",
       "4         Non Promoted          Yes      Stay  "
      ]
     },
     "execution_count": 33,
     "metadata": {},
     "output_type": "execute_result"
    }
   ],
   "source": [
    "df.head()"
   ]
  },
  {
   "cell_type": "markdown",
   "id": "7dd62776",
   "metadata": {},
   "source": [
    "The variables id, name, phoneNumber, JobRoleMatch are useless for the model building. So, we will drop these variables."
   ]
  },
  {
   "cell_type": "code",
   "execution_count": 34,
   "id": "adec8eea",
   "metadata": {},
   "outputs": [],
   "source": [
    "df = df.drop(['tableid', 'name', 'phonenumber','Tenure'],axis=1)"
   ]
  },
  {
   "cell_type": "code",
   "execution_count": 35,
   "id": "26be2abe",
   "metadata": {},
   "outputs": [
    {
     "data": {
      "text/html": [
       "<div>\n",
       "<style scoped>\n",
       "    .dataframe tbody tr th:only-of-type {\n",
       "        vertical-align: middle;\n",
       "    }\n",
       "\n",
       "    .dataframe tbody tr th {\n",
       "        vertical-align: top;\n",
       "    }\n",
       "\n",
       "    .dataframe thead th {\n",
       "        text-align: right;\n",
       "    }\n",
       "</style>\n",
       "<table border=\"1\" class=\"dataframe\">\n",
       "  <thead>\n",
       "    <tr style=\"text-align: right;\">\n",
       "      <th></th>\n",
       "      <th>Location</th>\n",
       "      <th>Emp.Group</th>\n",
       "      <th>Function</th>\n",
       "      <th>Gender</th>\n",
       "      <th>TenureGrp.</th>\n",
       "      <th>Experience(YY.MM)</th>\n",
       "      <th>MaritalStatus</th>\n",
       "      <th>AgeinYY.</th>\n",
       "      <th>HiringSource</th>\n",
       "      <th>Promoted/NonPromoted</th>\n",
       "      <th>JobRoleMatch</th>\n",
       "      <th>Stay/Left</th>\n",
       "    </tr>\n",
       "  </thead>\n",
       "  <tbody>\n",
       "    <tr>\n",
       "      <th>0</th>\n",
       "      <td>Pune</td>\n",
       "      <td>B2</td>\n",
       "      <td>Operation</td>\n",
       "      <td>Male</td>\n",
       "      <td>&lt; =1</td>\n",
       "      <td>6.08</td>\n",
       "      <td>Single</td>\n",
       "      <td>27.12</td>\n",
       "      <td>Direct</td>\n",
       "      <td>Non Promoted</td>\n",
       "      <td>Yes</td>\n",
       "      <td>Left</td>\n",
       "    </tr>\n",
       "    <tr>\n",
       "      <th>7</th>\n",
       "      <td>Bangalore</td>\n",
       "      <td>B2</td>\n",
       "      <td>Operation</td>\n",
       "      <td>Male</td>\n",
       "      <td>&lt; =1</td>\n",
       "      <td>5.11</td>\n",
       "      <td>Marr.</td>\n",
       "      <td>30.11</td>\n",
       "      <td>Agency</td>\n",
       "      <td>Promoted</td>\n",
       "      <td>No</td>\n",
       "      <td>Left</td>\n",
       "    </tr>\n",
       "    <tr>\n",
       "      <th>8</th>\n",
       "      <td>Bangalore</td>\n",
       "      <td>B2</td>\n",
       "      <td>Operation</td>\n",
       "      <td>Male</td>\n",
       "      <td>&lt; =1</td>\n",
       "      <td>6.04</td>\n",
       "      <td>Marr.</td>\n",
       "      <td>33.05</td>\n",
       "      <td>Agency</td>\n",
       "      <td>Promoted</td>\n",
       "      <td>No</td>\n",
       "      <td>Left</td>\n",
       "    </tr>\n",
       "    <tr>\n",
       "      <th>10</th>\n",
       "      <td>Noida</td>\n",
       "      <td>B1</td>\n",
       "      <td>Operation</td>\n",
       "      <td>Male</td>\n",
       "      <td>&lt; =1</td>\n",
       "      <td>0.10</td>\n",
       "      <td>Single</td>\n",
       "      <td>27.10</td>\n",
       "      <td>Direct</td>\n",
       "      <td>Non Promoted</td>\n",
       "      <td>No</td>\n",
       "      <td>Left</td>\n",
       "    </tr>\n",
       "    <tr>\n",
       "      <th>12</th>\n",
       "      <td>Hyderabad</td>\n",
       "      <td>B2</td>\n",
       "      <td>Operation</td>\n",
       "      <td>Male</td>\n",
       "      <td>&lt; =1</td>\n",
       "      <td>6.03</td>\n",
       "      <td>Single</td>\n",
       "      <td>30.01</td>\n",
       "      <td>Direct</td>\n",
       "      <td>Promoted</td>\n",
       "      <td>No</td>\n",
       "      <td>Left</td>\n",
       "    </tr>\n",
       "    <tr>\n",
       "      <th>...</th>\n",
       "      <td>...</td>\n",
       "      <td>...</td>\n",
       "      <td>...</td>\n",
       "      <td>...</td>\n",
       "      <td>...</td>\n",
       "      <td>...</td>\n",
       "      <td>...</td>\n",
       "      <td>...</td>\n",
       "      <td>...</td>\n",
       "      <td>...</td>\n",
       "      <td>...</td>\n",
       "      <td>...</td>\n",
       "    </tr>\n",
       "    <tr>\n",
       "      <th>889</th>\n",
       "      <td>Noida</td>\n",
       "      <td>B1</td>\n",
       "      <td>Operation</td>\n",
       "      <td>Male</td>\n",
       "      <td>&gt; 1 &amp; &lt; =3</td>\n",
       "      <td>4.02</td>\n",
       "      <td>Single</td>\n",
       "      <td>27.01</td>\n",
       "      <td>Direct</td>\n",
       "      <td>Promoted</td>\n",
       "      <td>No</td>\n",
       "      <td>Left</td>\n",
       "    </tr>\n",
       "    <tr>\n",
       "      <th>890</th>\n",
       "      <td>Chennai</td>\n",
       "      <td>B1</td>\n",
       "      <td>Operation</td>\n",
       "      <td>Female</td>\n",
       "      <td>&gt; 1 &amp; &lt; =3</td>\n",
       "      <td>2.00</td>\n",
       "      <td>Sep.</td>\n",
       "      <td>24.07</td>\n",
       "      <td>Direct</td>\n",
       "      <td>Promoted</td>\n",
       "      <td>No</td>\n",
       "      <td>Left</td>\n",
       "    </tr>\n",
       "    <tr>\n",
       "      <th>892</th>\n",
       "      <td>Vijayawada</td>\n",
       "      <td>B1</td>\n",
       "      <td>Operation</td>\n",
       "      <td>Female</td>\n",
       "      <td>&lt; =1</td>\n",
       "      <td>3.06</td>\n",
       "      <td>Marr.</td>\n",
       "      <td>25.02</td>\n",
       "      <td>Direct</td>\n",
       "      <td>Promoted</td>\n",
       "      <td>No</td>\n",
       "      <td>Left</td>\n",
       "    </tr>\n",
       "    <tr>\n",
       "      <th>894</th>\n",
       "      <td>Vijayawada</td>\n",
       "      <td>B1</td>\n",
       "      <td>Operation</td>\n",
       "      <td>Male</td>\n",
       "      <td>&lt; =1</td>\n",
       "      <td>0.03</td>\n",
       "      <td>Single</td>\n",
       "      <td>22.05</td>\n",
       "      <td>Direct</td>\n",
       "      <td>Non Promoted</td>\n",
       "      <td>No</td>\n",
       "      <td>Left</td>\n",
       "    </tr>\n",
       "    <tr>\n",
       "      <th>898</th>\n",
       "      <td>Vijayawada</td>\n",
       "      <td>B1</td>\n",
       "      <td>Operation</td>\n",
       "      <td>Female</td>\n",
       "      <td>&lt; =1</td>\n",
       "      <td>0.03</td>\n",
       "      <td>Single</td>\n",
       "      <td>22.02</td>\n",
       "      <td>Direct</td>\n",
       "      <td>Non Promoted</td>\n",
       "      <td>Yes</td>\n",
       "      <td>Left</td>\n",
       "    </tr>\n",
       "  </tbody>\n",
       "</table>\n",
       "<p>304 rows × 12 columns</p>\n",
       "</div>"
      ],
      "text/plain": [
       "       Location Emp.Group   Function  Gender  TenureGrp.  Experience(YY.MM)  \\\n",
       "0          Pune        B2  Operation    Male        < =1               6.08   \n",
       "7     Bangalore        B2  Operation    Male        < =1               5.11   \n",
       "8     Bangalore        B2  Operation    Male        < =1               6.04   \n",
       "10        Noida        B1  Operation    Male        < =1               0.10   \n",
       "12    Hyderabad        B2  Operation    Male        < =1               6.03   \n",
       "..          ...       ...        ...     ...         ...                ...   \n",
       "889       Noida        B1  Operation    Male  > 1 & < =3               4.02   \n",
       "890     Chennai        B1  Operation  Female  > 1 & < =3               2.00   \n",
       "892  Vijayawada        B1  Operation  Female        < =1               3.06   \n",
       "894  Vijayawada        B1  Operation    Male        < =1               0.03   \n",
       "898  Vijayawada        B1  Operation  Female        < =1               0.03   \n",
       "\n",
       "    MaritalStatus  AgeinYY. HiringSource Promoted/NonPromoted JobRoleMatch  \\\n",
       "0          Single     27.12       Direct         Non Promoted          Yes   \n",
       "7           Marr.     30.11       Agency             Promoted           No   \n",
       "8           Marr.     33.05       Agency             Promoted           No   \n",
       "10         Single     27.10       Direct         Non Promoted           No   \n",
       "12         Single     30.01       Direct             Promoted           No   \n",
       "..            ...       ...          ...                  ...          ...   \n",
       "889        Single     27.01       Direct             Promoted           No   \n",
       "890          Sep.     24.07       Direct             Promoted           No   \n",
       "892         Marr.     25.02       Direct             Promoted           No   \n",
       "894        Single     22.05       Direct         Non Promoted           No   \n",
       "898        Single     22.02       Direct         Non Promoted          Yes   \n",
       "\n",
       "    Stay/Left  \n",
       "0        Left  \n",
       "7        Left  \n",
       "8        Left  \n",
       "10       Left  \n",
       "12       Left  \n",
       "..        ...  \n",
       "889      Left  \n",
       "890      Left  \n",
       "892      Left  \n",
       "894      Left  \n",
       "898      Left  \n",
       "\n",
       "[304 rows x 12 columns]"
      ]
     },
     "execution_count": 35,
     "metadata": {},
     "output_type": "execute_result"
    }
   ],
   "source": [
    "df[df['Stay/Left']=='Left']"
   ]
  },
  {
   "cell_type": "code",
   "execution_count": 36,
   "id": "77072741",
   "metadata": {},
   "outputs": [
    {
     "data": {
      "text/plain": [
       "array(['Pune', 'Noida', 'Bangalore', 'Lucknow', 'Chennai', 'Hyderabad',\n",
       "       'Nagpur', 'Madurai', 'Mumbai', 'Gurgaon', 'Kolkata', 'Vijayawada'],\n",
       "      dtype=object)"
      ]
     },
     "execution_count": 36,
     "metadata": {},
     "output_type": "execute_result"
    }
   ],
   "source": [
    "df['Location'].unique()"
   ]
  },
  {
   "cell_type": "code",
   "execution_count": 37,
   "id": "5974e8bb",
   "metadata": {},
   "outputs": [
    {
     "name": "stdout",
     "output_type": "stream",
     "text": [
      "The unique elements in Location are ['Pune' 'Noida' 'Bangalore' 'Lucknow' 'Chennai' 'Hyderabad' 'Nagpur'\n",
      " 'Madurai' 'Mumbai' 'Gurgaon' 'Kolkata' 'Vijayawada']\n",
      "\n",
      "The unique elements in Emp.Group are ['B2' 'B7' 'B3' 'B1' 'B5' 'B0' 'B4' 'B6' 'C3' 'D2']\n",
      "\n",
      "The unique elements in Function are ['Operation' 'Support' 'Sales']\n",
      "\n",
      "The unique elements in Gender are ['Male' 'Female' 'other']\n",
      "\n",
      "The unique elements in TenureGrp. are ['< =1' '> 1 & < =3']\n",
      "\n",
      "The unique elements in MaritalStatus are ['Single' 'Marr.' 'Div.' 'NTBD' 'Sep.']\n",
      "\n",
      "The unique elements in HiringSource are ['Direct' 'Agency' 'Employee Referral']\n",
      "\n",
      "The unique elements in Promoted/NonPromoted are ['Non Promoted' 'Promoted']\n",
      "\n",
      "The unique elements in JobRoleMatch are ['Yes' 'No']\n",
      "\n",
      "The unique elements in Stay/Left are ['Left' 'Stay']\n",
      "\n"
     ]
    }
   ],
   "source": [
    "# Checking the unique elements of the categorical variables\n",
    "for i in df.select_dtypes('object').columns:\n",
    "    print(f'The unique elements in {i} are {df[i].unique()}\\n')"
   ]
  },
  {
   "cell_type": "code",
   "execution_count": 38,
   "id": "4d2866fe",
   "metadata": {},
   "outputs": [],
   "source": [
    "# lets labelEncode the variables 'Function', 'Gender', 'TenureGrp.','MaritalStatus', 'HiringSource','Promoted/NonPromoted', 'JobRoleMatch', 'Stay/Left'\n",
    "from sklearn.preprocessing import LabelEncoder\n",
    "labelencoder = LabelEncoder()\n",
    "\n",
    "\n",
    "for i in ['Location', 'Emp.Group','Stay/Left', 'Function', 'Gender', 'TenureGrp.','MaritalStatus', 'HiringSource','Promoted/NonPromoted', 'JobRoleMatch']:\n",
    "    df[i] = labelencoder.fit_transform(df[i])"
   ]
  },
  {
   "cell_type": "code",
   "execution_count": 39,
   "id": "afadf909",
   "metadata": {},
   "outputs": [
    {
     "name": "stdout",
     "output_type": "stream",
     "text": [
      "The unique elements in Location are [10  9  0  5  1  3  8  6  7  2  4 11]\n",
      "\n",
      "The unique elements in Emp.Group are [2 7 3 1 5 0 4 6 8 9]\n",
      "\n",
      "The unique elements in Function are [0 2 1]\n",
      "\n",
      "The unique elements in Gender are [1 0 2]\n",
      "\n",
      "The unique elements in TenureGrp. are [0 1]\n",
      "\n",
      "The unique elements in Experience(YY.MM) are [ 6.08 13.   16.05  6.06  7.    9.01  5.02  5.11  6.04 10.01  0.1   9.08\n",
      "  6.03  6.09 11.02  4.09  5.1   4.03  0.03  1.1   3.03  4.04  8.04  8.03\n",
      "  5.03  1.    3.11  6.1   7.04  9.07  2.04  9.04  2.03 15.04  0.04  1.08\n",
      "  5.04  3.04 10.04  3.07 12.05  2.01  1.01  1.06  1.02  6.05  2.11  3.05\n",
      "  4.06  1.03  8.06  1.07 17.06  3.1   1.05  5.   15.06 10.06  6.07  4.11\n",
      "  3.06  0.09 12.07  7.06  2.07 13.1   1.09  8.01  0.07  5.07 10.07  5.01\n",
      "  2.06  7.07  3.02  9.11  7.08  4.1   4.01  0.08  2.02  4.08  3.01  3.08\n",
      " 15.03  5.05  9.09 25.08 11.04 10.09  8.09 12.09  5.09  6.01  9.02  8.11\n",
      " 11.03  2.1   2.   11.    0.11  7.1   3.09  9.05  2.08  8.1   1.11  4.02\n",
      "  7.09 12.08  4.    3.   11.11  7.01 19.08 11.08 10.11  4.05 15.11  7.11\n",
      "  8.   10.   12.    5.06 15.    6.02  9.    2.05  5.08  7.05  7.02 12.02\n",
      "  6.11 12.01 11.01 11.05 14.02  2.09  4.07 12.03 14.   12.1  15.05 16.04\n",
      "  7.03  6.    8.07 18.05  9.06 13.05 21.06 13.08 11.06 11.07  8.02 11.09\n",
      " 11.1  21.05  9.1  24.01  8.08 23.06 12.06 13.11 10.08 10.02 13.09]\n",
      "\n",
      "The unique elements in MaritalStatus are [4 1 0 2 3]\n",
      "\n",
      "The unique elements in AgeinYY. are [27.12 38.08 36.04 32.07 32.05 39.09 28.02 30.11 33.05 41.06 27.1  34.09\n",
      " 30.01 39.07 26.07 36.03 31.09 27.08 27.07 21.05 24.1  28.08 39.06 29.02\n",
      " 30.07 35.07 27.03 23.03 26.05 32.04 28.12 32.02 38.07 30.06 43.   25.06\n",
      " 27.05 26.03 37.   33.1  23.06 39.08 26.02 24.02 25.04 23.08 22.03 36.07\n",
      " 25.01 37.07 24.04 30.04 40.07 23.11 31.02 30.03 28.06 24.03 41.04 29.05\n",
      " 23.1  28.01 27.06 33.03 29.1  27.02 36.02 33.   31.05 25.02 35.12 34.07\n",
      " 27.09 24.08 36.1  38.09 41.   25.09 37.1  25.07 33.08 36.06 35.08 22.07\n",
      " 33.02 31.01 26.01 27.04 50.07 29.09 34.04 40.04 28.09 36.   28.07 32.09\n",
      " 33.07 35.06 30.09 28.11 30.1  30.08 32.03 26.06 38.06 36.11 35.04 24.09\n",
      " 25.11 39.11 28.05 26.12 35.09 27.11 39.   42.02 24.12 31.04 28.   31.08\n",
      " 28.03 24.11 38.   29.06 29.07 38.04 34.08 28.04 34.03 25.08 35.1  34.\n",
      " 30.02 27.01 26.04 26.09 29.04 26.11 33.09 25.05 41.02 38.1  29.12 32.12\n",
      " 26.   35.05 36.12 33.06 27.   29.01 31.03 24.01 32.06 38.11 34.02 23.12\n",
      " 25.03 23.09 24.06 32.08 40.06 24.   25.1  28.1  24.07 43.1  26.08 23.\n",
      " 34.01 34.06 30.05 37.06 23.04 32.1  40.02 29.   37.03 42.05 26.1  37.02\n",
      " 23.02 23.07 31.1  37.04 24.05 31.07 47.09 37.08 45.05 37.09 37.11 31.06\n",
      " 32.   25.12 29.03 35.11 29.11 29.08 46.05 36.09 31.   44.04 32.11 35.02\n",
      " 31.12 52.06 37.05 39.04 34.05 30.12 40.08 39.01 34.11 47.   33.11 33.04\n",
      " 34.12 38.12 35.   36.01 36.08 30.   31.11 23.01 22.08 22.05 21.09 22.02]\n",
      "\n",
      "The unique elements in HiringSource are [1 0 2]\n",
      "\n",
      "The unique elements in Promoted/NonPromoted are [0 1]\n",
      "\n",
      "The unique elements in JobRoleMatch are [1 0]\n",
      "\n",
      "The unique elements in Stay/Left are [0 1]\n",
      "\n"
     ]
    }
   ],
   "source": [
    "# Checking the unique elements of the categorical variables\n",
    "for i in df.columns:\n",
    "    print(f'The unique elements in {i} are {df[i].unique()}\\n')"
   ]
  },
  {
   "cell_type": "code",
   "execution_count": 40,
   "id": "e385ca68",
   "metadata": {},
   "outputs": [
    {
     "data": {
      "text/html": [
       "<div>\n",
       "<style scoped>\n",
       "    .dataframe tbody tr th:only-of-type {\n",
       "        vertical-align: middle;\n",
       "    }\n",
       "\n",
       "    .dataframe tbody tr th {\n",
       "        vertical-align: top;\n",
       "    }\n",
       "\n",
       "    .dataframe thead th {\n",
       "        text-align: right;\n",
       "    }\n",
       "</style>\n",
       "<table border=\"1\" class=\"dataframe\">\n",
       "  <thead>\n",
       "    <tr style=\"text-align: right;\">\n",
       "      <th></th>\n",
       "      <th>Location</th>\n",
       "      <th>Emp.Group</th>\n",
       "      <th>Function</th>\n",
       "      <th>Gender</th>\n",
       "      <th>TenureGrp.</th>\n",
       "      <th>Experience(YY.MM)</th>\n",
       "      <th>MaritalStatus</th>\n",
       "      <th>AgeinYY.</th>\n",
       "      <th>HiringSource</th>\n",
       "      <th>Promoted/NonPromoted</th>\n",
       "      <th>JobRoleMatch</th>\n",
       "      <th>Stay/Left</th>\n",
       "    </tr>\n",
       "  </thead>\n",
       "  <tbody>\n",
       "    <tr>\n",
       "      <th>0</th>\n",
       "      <td>10</td>\n",
       "      <td>2</td>\n",
       "      <td>0</td>\n",
       "      <td>1</td>\n",
       "      <td>0</td>\n",
       "      <td>6.08</td>\n",
       "      <td>4</td>\n",
       "      <td>27.12</td>\n",
       "      <td>1</td>\n",
       "      <td>0</td>\n",
       "      <td>1</td>\n",
       "      <td>0</td>\n",
       "    </tr>\n",
       "    <tr>\n",
       "      <th>1</th>\n",
       "      <td>9</td>\n",
       "      <td>7</td>\n",
       "      <td>2</td>\n",
       "      <td>1</td>\n",
       "      <td>0</td>\n",
       "      <td>13.00</td>\n",
       "      <td>1</td>\n",
       "      <td>38.08</td>\n",
       "      <td>1</td>\n",
       "      <td>1</td>\n",
       "      <td>0</td>\n",
       "      <td>1</td>\n",
       "    </tr>\n",
       "    <tr>\n",
       "      <th>2</th>\n",
       "      <td>0</td>\n",
       "      <td>3</td>\n",
       "      <td>0</td>\n",
       "      <td>1</td>\n",
       "      <td>0</td>\n",
       "      <td>16.05</td>\n",
       "      <td>1</td>\n",
       "      <td>36.04</td>\n",
       "      <td>1</td>\n",
       "      <td>1</td>\n",
       "      <td>1</td>\n",
       "      <td>1</td>\n",
       "    </tr>\n",
       "    <tr>\n",
       "      <th>3</th>\n",
       "      <td>9</td>\n",
       "      <td>2</td>\n",
       "      <td>0</td>\n",
       "      <td>1</td>\n",
       "      <td>0</td>\n",
       "      <td>6.06</td>\n",
       "      <td>1</td>\n",
       "      <td>32.07</td>\n",
       "      <td>1</td>\n",
       "      <td>1</td>\n",
       "      <td>1</td>\n",
       "      <td>1</td>\n",
       "    </tr>\n",
       "    <tr>\n",
       "      <th>4</th>\n",
       "      <td>5</td>\n",
       "      <td>2</td>\n",
       "      <td>0</td>\n",
       "      <td>1</td>\n",
       "      <td>0</td>\n",
       "      <td>7.00</td>\n",
       "      <td>1</td>\n",
       "      <td>32.05</td>\n",
       "      <td>1</td>\n",
       "      <td>0</td>\n",
       "      <td>1</td>\n",
       "      <td>1</td>\n",
       "    </tr>\n",
       "  </tbody>\n",
       "</table>\n",
       "</div>"
      ],
      "text/plain": [
       "   Location  Emp.Group  Function  Gender  TenureGrp.  Experience(YY.MM)  \\\n",
       "0        10          2         0       1           0               6.08   \n",
       "1         9          7         2       1           0              13.00   \n",
       "2         0          3         0       1           0              16.05   \n",
       "3         9          2         0       1           0               6.06   \n",
       "4         5          2         0       1           0               7.00   \n",
       "\n",
       "   MaritalStatus  AgeinYY.  HiringSource  Promoted/NonPromoted  JobRoleMatch  \\\n",
       "0              4     27.12             1                     0             1   \n",
       "1              1     38.08             1                     1             0   \n",
       "2              1     36.04             1                     1             1   \n",
       "3              1     32.07             1                     1             1   \n",
       "4              1     32.05             1                     0             1   \n",
       "\n",
       "   Stay/Left  \n",
       "0          0  \n",
       "1          1  \n",
       "2          1  \n",
       "3          1  \n",
       "4          1  "
      ]
     },
     "execution_count": 40,
     "metadata": {},
     "output_type": "execute_result"
    }
   ],
   "source": [
    "df.head()"
   ]
  },
  {
   "cell_type": "code",
   "execution_count": 41,
   "id": "603444c1",
   "metadata": {},
   "outputs": [],
   "source": [
    "#df = pd.get_dummies(df, columns=['Function', 'Gender', 'TenureGrp.','MaritalStatus', 'HiringSource','Promoted/NonPromoted', 'JobRoleMatch'], drop_first=True)"
   ]
  },
  {
   "cell_type": "code",
   "execution_count": 42,
   "id": "49fd22e3",
   "metadata": {},
   "outputs": [
    {
     "data": {
      "text/html": [
       "<div>\n",
       "<style scoped>\n",
       "    .dataframe tbody tr th:only-of-type {\n",
       "        vertical-align: middle;\n",
       "    }\n",
       "\n",
       "    .dataframe tbody tr th {\n",
       "        vertical-align: top;\n",
       "    }\n",
       "\n",
       "    .dataframe thead th {\n",
       "        text-align: right;\n",
       "    }\n",
       "</style>\n",
       "<table border=\"1\" class=\"dataframe\">\n",
       "  <thead>\n",
       "    <tr style=\"text-align: right;\">\n",
       "      <th></th>\n",
       "      <th>Location</th>\n",
       "      <th>Emp.Group</th>\n",
       "      <th>Function</th>\n",
       "      <th>Gender</th>\n",
       "      <th>TenureGrp.</th>\n",
       "      <th>Experience(YY.MM)</th>\n",
       "      <th>MaritalStatus</th>\n",
       "      <th>AgeinYY.</th>\n",
       "      <th>HiringSource</th>\n",
       "      <th>Promoted/NonPromoted</th>\n",
       "      <th>JobRoleMatch</th>\n",
       "      <th>Stay/Left</th>\n",
       "    </tr>\n",
       "  </thead>\n",
       "  <tbody>\n",
       "    <tr>\n",
       "      <th>0</th>\n",
       "      <td>10</td>\n",
       "      <td>2</td>\n",
       "      <td>0</td>\n",
       "      <td>1</td>\n",
       "      <td>0</td>\n",
       "      <td>6.08</td>\n",
       "      <td>4</td>\n",
       "      <td>27.12</td>\n",
       "      <td>1</td>\n",
       "      <td>0</td>\n",
       "      <td>1</td>\n",
       "      <td>0</td>\n",
       "    </tr>\n",
       "    <tr>\n",
       "      <th>1</th>\n",
       "      <td>9</td>\n",
       "      <td>7</td>\n",
       "      <td>2</td>\n",
       "      <td>1</td>\n",
       "      <td>0</td>\n",
       "      <td>13.00</td>\n",
       "      <td>1</td>\n",
       "      <td>38.08</td>\n",
       "      <td>1</td>\n",
       "      <td>1</td>\n",
       "      <td>0</td>\n",
       "      <td>1</td>\n",
       "    </tr>\n",
       "    <tr>\n",
       "      <th>2</th>\n",
       "      <td>0</td>\n",
       "      <td>3</td>\n",
       "      <td>0</td>\n",
       "      <td>1</td>\n",
       "      <td>0</td>\n",
       "      <td>16.05</td>\n",
       "      <td>1</td>\n",
       "      <td>36.04</td>\n",
       "      <td>1</td>\n",
       "      <td>1</td>\n",
       "      <td>1</td>\n",
       "      <td>1</td>\n",
       "    </tr>\n",
       "    <tr>\n",
       "      <th>3</th>\n",
       "      <td>9</td>\n",
       "      <td>2</td>\n",
       "      <td>0</td>\n",
       "      <td>1</td>\n",
       "      <td>0</td>\n",
       "      <td>6.06</td>\n",
       "      <td>1</td>\n",
       "      <td>32.07</td>\n",
       "      <td>1</td>\n",
       "      <td>1</td>\n",
       "      <td>1</td>\n",
       "      <td>1</td>\n",
       "    </tr>\n",
       "    <tr>\n",
       "      <th>4</th>\n",
       "      <td>5</td>\n",
       "      <td>2</td>\n",
       "      <td>0</td>\n",
       "      <td>1</td>\n",
       "      <td>0</td>\n",
       "      <td>7.00</td>\n",
       "      <td>1</td>\n",
       "      <td>32.05</td>\n",
       "      <td>1</td>\n",
       "      <td>0</td>\n",
       "      <td>1</td>\n",
       "      <td>1</td>\n",
       "    </tr>\n",
       "  </tbody>\n",
       "</table>\n",
       "</div>"
      ],
      "text/plain": [
       "   Location  Emp.Group  Function  Gender  TenureGrp.  Experience(YY.MM)  \\\n",
       "0        10          2         0       1           0               6.08   \n",
       "1         9          7         2       1           0              13.00   \n",
       "2         0          3         0       1           0              16.05   \n",
       "3         9          2         0       1           0               6.06   \n",
       "4         5          2         0       1           0               7.00   \n",
       "\n",
       "   MaritalStatus  AgeinYY.  HiringSource  Promoted/NonPromoted  JobRoleMatch  \\\n",
       "0              4     27.12             1                     0             1   \n",
       "1              1     38.08             1                     1             0   \n",
       "2              1     36.04             1                     1             1   \n",
       "3              1     32.07             1                     1             1   \n",
       "4              1     32.05             1                     0             1   \n",
       "\n",
       "   Stay/Left  \n",
       "0          0  \n",
       "1          1  \n",
       "2          1  \n",
       "3          1  \n",
       "4          1  "
      ]
     },
     "execution_count": 42,
     "metadata": {},
     "output_type": "execute_result"
    }
   ],
   "source": [
    "df.head()"
   ]
  },
  {
   "cell_type": "code",
   "execution_count": 43,
   "id": "88b90312",
   "metadata": {},
   "outputs": [
    {
     "data": {
      "text/plain": [
       "(896, 12)"
      ]
     },
     "execution_count": 43,
     "metadata": {},
     "output_type": "execute_result"
    }
   ],
   "source": [
    "df.shape"
   ]
  },
  {
   "cell_type": "code",
   "execution_count": 44,
   "id": "f59b4e51",
   "metadata": {},
   "outputs": [],
   "source": [
    "X = df.drop('Stay/Left',axis=1)\n",
    "y = df['Stay/Left']"
   ]
  },
  {
   "cell_type": "code",
   "execution_count": 45,
   "id": "09032b40",
   "metadata": {},
   "outputs": [
    {
     "data": {
      "text/plain": [
       "<AxesSubplot:xlabel='Stay/Left', ylabel='count'>"
      ]
     },
     "execution_count": 45,
     "metadata": {},
     "output_type": "execute_result"
    },
    {
     "data": {
      "image/png": "[encoded data removed]",
      "text/plain": [
       "<Figure size 432x288 with 1 Axes>"
      ]
     },
     "metadata": {},
     "output_type": "display_data"
    }
   ],
   "source": [
    "sns.countplot(y)"
   ]
  },
  {
   "cell_type": "markdown",
   "id": "7ae4f240",
   "metadata": {},
   "source": [
    "The target variable is imbalanced. So, we need to balance the target variable."
   ]
  },
  {
   "cell_type": "code",
   "execution_count": 46,
   "id": "a37fd12b",
   "metadata": {},
   "outputs": [],
   "source": [
    "#Handling the imbalanced data\n",
    "\n",
    "#lets balance the class using the Smoteen sampling technique\n",
    "from imblearn.combine import SMOTEENN\n",
    "#defining the model\n",
    "sn=SMOTEENN(random_state=0)\n",
    "#Training the model\n",
    "sn.fit(X,y)\n",
    "\n",
    "#making the samples\n",
    "X,y=sn.fit_resample(X,y)\n"
   ]
  },
  {
   "cell_type": "code",
   "execution_count": 47,
   "id": "314c16aa",
   "metadata": {},
   "outputs": [
    {
     "data": {
      "text/plain": [
       "<AxesSubplot:xlabel='Stay/Left', ylabel='count'>"
      ]
     },
     "execution_count": 47,
     "metadata": {},
     "output_type": "execute_result"
    },
    {
     "data": {
      "image/png": "[encoded data removed]",
      "text/plain": [
       "<Figure size 432x288 with 1 Axes>"
      ]
     },
     "metadata": {},
     "output_type": "display_data"
    }
   ],
   "source": [
    "sns.countplot(y)"
   ]
  },
  {
   "cell_type": "code",
   "execution_count": 48,
   "id": "b94844bf",
   "metadata": {},
   "outputs": [],
   "source": [
    "from sklearn.model_selection import train_test_split\n",
    "X_train, X_test, y_train, y_test = train_test_split(X, y, test_size = 0.2, random_state = 0)"
   ]
  },
  {
   "cell_type": "code",
   "execution_count": 49,
   "id": "147ffb32",
   "metadata": {},
   "outputs": [
    {
     "name": "stdout",
     "output_type": "stream",
     "text": [
      "The shape of X_train is (598, 11)\n",
      "The shape of X_test is (150, 11)\n",
      "The shape of y_train is (598,)\n",
      "The shape of y_test is (150,)\n"
     ]
    }
   ],
   "source": [
    "print(f'The shape of X_train is {X_train.shape}')\n",
    "print(f'The shape of X_test is {X_test.shape}')\n",
    "print(f'The shape of y_train is {y_train.shape}')\n",
    "print(f'The shape of y_test is {y_test.shape}')"
   ]
  },
  {
   "cell_type": "code",
   "execution_count": 50,
   "id": "c5297a03",
   "metadata": {},
   "outputs": [],
   "source": [
    "from sklearn.naive_bayes import GaussianNB\n",
    "from sklearn.linear_model import LogisticRegression\n",
    "from sklearn.neighbors import KNeighborsClassifier\n",
    "from sklearn.ensemble import RandomForestClassifier\n",
    "from sklearn.tree import DecisionTreeClassifier"
   ]
  },
  {
   "cell_type": "code",
   "execution_count": 51,
   "id": "cfe7b6eb",
   "metadata": {},
   "outputs": [],
   "source": [
    "model=[]\n",
    "model.append(('LogisticRegression',LogisticRegression()))\n",
    "\n",
    "model.append(('Naive bayes',GaussianNB()))\n",
    "\n",
    "model.append(('KNN',KNeighborsClassifier()))\n",
    "\n",
    "model.append(('RandomForest',RandomForestClassifier()))\n",
    "\n"
   ]
  },
  {
   "cell_type": "code",
   "execution_count": 52,
   "id": "321a92e8",
   "metadata": {},
   "outputs": [
    {
     "name": "stdout",
     "output_type": "stream",
     "text": [
      "LogisticRegression\n",
      "[[78  1]\n",
      " [ 2 69]]\n",
      "\n",
      "\n",
      "0.98\n",
      "\n",
      "\n",
      "Naive bayes\n",
      "[[73  1]\n",
      " [ 7 69]]\n",
      "\n",
      "\n",
      "0.9466666666666667\n",
      "\n",
      "\n",
      "KNN\n",
      "[[79  5]\n",
      " [ 1 65]]\n",
      "\n",
      "\n",
      "0.96\n",
      "\n",
      "\n",
      "RandomForest\n",
      "[[78  1]\n",
      " [ 2 69]]\n",
      "\n",
      "\n",
      "0.98\n",
      "\n",
      "\n"
     ]
    }
   ],
   "source": [
    "from sklearn.metrics import accuracy_score\n",
    "for name,model in model:\n",
    "    print(name)\n",
    "    model.fit(X_train,y_train)\n",
    " \n",
    "    predictions=model.predict(X_test)\n",
    "    from sklearn.metrics import confusion_matrix \n",
    "    print(confusion_matrix(predictions,y_test))\n",
    "    print('\\n')\n",
    "    print(accuracy_score(predictions,y_test))\n",
    "    print('\\n')"
   ]
  },
  {
   "cell_type": "code",
   "execution_count": 53,
   "id": "166cece0",
   "metadata": {},
   "outputs": [],
   "source": [
    "from sklearn.model_selection import RandomizedSearchCV\n",
    "\n",
    "n_estimators=[int(x) for x in np.linspace(\n",
    "    start=100,\n",
    "    stop=1200,\n",
    "    num=6)]\n",
    "max_depth=[int(x) for x in np.linspace(\n",
    "    start=5,\n",
    "    stop=35,\n",
    "    num=4)]"
   ]
  },
  {
   "cell_type": "code",
   "execution_count": 54,
   "id": "a5b830e9",
   "metadata": {},
   "outputs": [
    {
     "name": "stdout",
     "output_type": "stream",
     "text": [
      "Fitting 3 folds for each of 10 candidates, totalling 30 fits\n"
     ]
    }
   ],
   "source": [
    "random_grid={'n_estimators':n_estimators,'max_depth':max_depth,\n",
    "            'max_features':['auto','sqrt'],'min_samples_split':[5,10,15,20]}\n",
    "\n",
    "CV_model=RandomizedSearchCV(\n",
    "    estimator=RandomForestClassifier(),\n",
    "    param_distributions=random_grid,\n",
    "    n_jobs=-1,\n",
    "    cv=3,\n",
    "    verbose=2\n",
    "    )\n",
    "\n",
    "CV_model.fit(X_train,y_train)\n",
    "\n",
    "CV_model.best_params_\n",
    "\n",
    "prediction=CV_model.predict(X_test)"
   ]
  },
  {
   "cell_type": "code",
   "execution_count": 55,
   "id": "b5312887",
   "metadata": {},
   "outputs": [
    {
     "name": "stdout",
     "output_type": "stream",
     "text": [
      "[[78  1]\n",
      " [ 2 69]]\n",
      "\n",
      "\n",
      "0.98\n",
      "\n",
      "\n"
     ]
    }
   ],
   "source": [
    "print(confusion_matrix(predictions,y_test))\n",
    "print('\\n')\n",
    "print(accuracy_score(predictions,y_test))\n",
    "print('\\n')"
   ]
  },
  {
   "cell_type": "code",
   "execution_count": 56,
   "id": "464f7a8d",
   "metadata": {},
   "outputs": [],
   "source": [
    "#import pickle\n",
    "#with open('Attrition_saved_model','wb') as file:\n",
    "#\tpickle.dump(CV_model,file)"
   ]
  },
  {
   "cell_type": "code",
   "execution_count": 57,
   "id": "71a45b34",
   "metadata": {},
   "outputs": [
    {
     "data": {
      "text/plain": [
       "Index(['Location', 'Emp.Group', 'Function', 'Gender', 'TenureGrp.',\n",
       "       'Experience(YY.MM)', 'MaritalStatus', 'AgeinYY.', 'HiringSource',\n",
       "       'Promoted/NonPromoted', 'JobRoleMatch'],\n",
       "      dtype='object')"
      ]
     },
     "execution_count": 57,
     "metadata": {},
     "output_type": "execute_result"
    }
   ],
   "source": [
    "X_train.columns"
   ]
  },
  {
   "cell_type": "code",
   "execution_count": null,
   "id": "c14634cf",
   "metadata": {},
   "outputs": [],
   "source": []
  },
  {
   "cell_type": "code",
   "execution_count": null,
   "id": "6373ff96",
   "metadata": {},
   "outputs": [],
   "source": []
  }
 ],
 "metadata": {
  "kernelspec": {
   "display_name": "Python 3",
   "language": "python",
   "name": "python3"
  },
  "language_info": {
   "codemirror_mode": {
    "name": "ipython",
    "version": 3
   },
   "file_extension": ".py",
   "mimetype": "text/x-python",
   "name": "python",
   "nbconvert_exporter": "python",
   "pygments_lexer": "ipython3",
   "version": "3.8.8"
  }
 },
 "nbformat": 4,
 "nbformat_minor": 5
}
